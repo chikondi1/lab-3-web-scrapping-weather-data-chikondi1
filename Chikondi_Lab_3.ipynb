{
  "nbformat": 4,
  "nbformat_minor": 0,
  "metadata": {
    "colab": {
      "name": "Chikondi Lab 3 ",
      "provenance": [],
      "authorship_tag": "ABX9TyOt71exOM5IjMAvHaUFQmFe",
      "include_colab_link": true
    },
    "kernelspec": {
      "name": "python3",
      "display_name": "Python 3"
    }
  },
  "cells": [
    {
      "cell_type": "markdown",
      "metadata": {
        "id": "view-in-github",
        "colab_type": "text"
      },
      "source": [
        "<a href=\"https://colab.research.google.com/github/chikondi1/lab-3-web-scrapping-weather-data-chikondi1/blob/main/Chikondi_Lab_3.ipynb\" target=\"_parent\"><img src=\"https://colab.research.google.com/assets/colab-badge.svg\" alt=\"Open In Colab\"/></a>"
      ]
    },
    {
      "cell_type": "code",
      "metadata": {
        "id": "Q99WtSkgm4TA"
      },
      "source": [
        "'''\n",
        "Chikondi Thangata\n",
        "17 September 2020\n",
        "Python 3.8.5\n",
        "Web Scraping Weather Data\n",
        "This code gathers data from the National Weather Service website to display climate conditions for Honolulu, HI. The inputs are elements scraped from the website in order to display the output information, which consists of climate conditions including humidity, wind speed, barometer, dewpoint, visibility, and heat index.\n",
        "'''"
      ],
      "execution_count": null,
      "outputs": []
    },
    {
      "cell_type": "code",
      "metadata": {
        "id": "qHJxY0Spooce",
        "colab": {
          "base_uri": "https://localhost:8080/"
        },
        "outputId": "31c89aa6-db40-4ffb-b87c-38f7e6ac53ae"
      },
      "source": [
        "# Required libraries are imported\n",
        "import requests\n",
        "from bs4 import BeautifulSoup\n",
        "\n",
        "# Lat/lon in decimal degrees provided for Honolulu, HI\n",
        "lat = '21.33'\n",
        "lon = '157.94'\n",
        "\n",
        "# Url from the National Weather Service for Honolulu (specifically Daniel K Inouye International Airport) is pasted\n",
        "url = \"https://forecast.weather.gov/MapClick.php?lat=21.3049&lon=-157.8579#.X2OnbpNKgnU\"\n",
        "\n",
        "# Web page is retrieved using the get() function from the requests library\n",
        "# The page variable stores the response from the web-page\n",
        "page = requests.get(url)\n",
        "\n",
        "# BeautifulSoup object is created with the response from the URL and contents of the web page are accessed using .content\n",
        "# html_parser is used because the page is in HTML format\n",
        "soup=BeautifulSoup(page.content,\"html.parser\")\n",
        "\n",
        "# The element to be scraped is called \"current_conditions_detail\" and find() locates the element in the BeautifulSoup object\n",
        "cur_climate_honolulu = soup.find(id=\"current_conditions_detail\")\n",
        "\n",
        "# Text is extracted from the selected BeautifulSoup object using .text\n",
        "cur_climate_honolulu = cur_climate_honolulu.text\n",
        "\n",
        "# Final Output\n",
        "print('The Current Climate at '+ lat +  \", \" + lon + \" (Honolulu, HI) is:\" + cur_climate_honolulu)"
      ],
      "execution_count": null,
      "outputs": [
        {
          "output_type": "stream",
          "text": [
            "The Current Climate at 21.33, 157.94 (Honolulu, HI) is:\n",
            "\n",
            "\n",
            "Humidity\n",
            "76%\n",
            "\n",
            "\n",
            "Wind Speed\n",
            "E 10 mph\n",
            "\n",
            "\n",
            "Barometer\n",
            "30.10 in (1019.2 mb)\n",
            "\n",
            "\n",
            "Dewpoint\n",
            "66°F (19°C)\n",
            "\n",
            "\n",
            "Visibility\n",
            "10.00 mi\n",
            "\n",
            "\n",
            "Last update\n",
            "\n",
            "                21 Feb 12:53 am HST            \n",
            "\n",
            "\n",
            "\n"
          ],
          "name": "stdout"
        }
      ]
    }
  ]
}